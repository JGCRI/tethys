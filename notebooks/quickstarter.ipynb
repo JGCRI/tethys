{
 "cells": [
  {
   "cell_type": "markdown",
   "id": "5f6b9117-3a8b-4947-8723-e98f833f8c88",
   "metadata": {},
   "source": [
    "# Getting started with Tethys\n"
   ]
  },
  {
   "attachments": {},
   "cell_type": "markdown",
   "id": "1bdbdfc1-963a-43dd-adb1-d6e1cd9e4952",
   "metadata": {},
   "source": [
    "## Motivation\n",
    "\n",
    "Integrated human-Earth systems models, such as GCAM, can project future water demand at a coarse, regionally-relevant scale by modeling long-term interactions between multiple sectors under a variety of scenarios, while gridded hydrology models simulate physical processes at a much finer spatial and temporal resolution. **tethys** facilitates coupling between these kinds of models by providing finer-scale water demand data while maintaining consistency with coarser-scale global dynamics.\n",
    "\n",
    "While **tethys** is designed to integrate seamlessly with GCAM, it has the ability to downscale region-scale water demand data from other sources as well.\n"
   ]
  },
  {
   "cell_type": "markdown",
   "id": "2905c01f-1f06-4cb8-9f7d-f60d6b014a78",
   "metadata": {},
   "source": [
    "## Installation\n",
    "\n",
    "As a prerequisite, you’ll need to have [Python](https://www.python.org/downloads/) installed (version 3.9 or above), and if you plan on querying a GCAM database, [Java](https://openjdk.org/) must be installed and added to your path.\n",
    "\n",
    "**tethys** can be install from PyPi via pip:\n",
    "```\n",
    "pip install tethys-downscaling\n",
    "```\n",
    "This will automatically install the dependencies. In order to avoid package version conflicts, consider using a virtual environment.\n",
    "\n",
    "Try importing **tethys** to confirm that installation was successful:\n"
   ]
  },
  {
   "cell_type": "code",
   "execution_count": null,
   "id": "a3900cd6-b7cb-45dd-8df9-22d42835e262",
   "metadata": {},
   "outputs": [],
   "source": [
    "import tethys\n",
    "\n",
    "tethys.__version__  # should print the version number\n"
   ]
  },
  {
   "cell_type": "code",
   "execution_count": null,
   "id": "cd1f9684-5b45-43c3-aca8-33b2502e9151",
   "metadata": {},
   "outputs": [],
   "source": [
    "# load additional packages needed for this tutorial\n",
    "# all are included with the tethys install\n",
    "from pathlib import Path\n",
    "from dask.distributed import Client\n",
    "from matplotlib import colors\n",
    "from matplotlib import pyplot as plt\n"
   ]
  },
  {
   "cell_type": "markdown",
   "id": "6e1503ed-545b-47e0-8384-b437ad2684e0",
   "metadata": {},
   "source": [
    "## Example Data\n",
    "\n",
    "Example data and configurations can be downloaded from Zenodo [here](https://zenodo.org/records/7569652), or by using the following:\n",
    "\n",
    "```python\n",
    "tethys.get_example_data()\n",
    "```\n",
    "\n",
    "The download decompresses to about 4.5GB. By default, it will make a directory called `example` at the root of the tethys pacakge, but you can specify another path.\n",
    "\n",
    "Some systems do not do well unpacking data that size without first having the zipped archived downloaded.  If you would rather have the code download the zipped archive first, then unpack it, then clean up you can run:\n",
    "\n",
    "```python\n",
    "tethys.get_example_data(download_first=True)\n",
    "```\n"
   ]
  },
  {
   "cell_type": "markdown",
   "id": "144307ae-ebf6-4240-ac28-ecc5485c4dc0",
   "metadata": {},
   "source": [
    "## Running **tethys**"
   ]
  },
  {
   "cell_type": "markdown",
   "id": "7fad6cef-ef96-4b73-a4a0-eec38900005d",
   "metadata": {},
   "source": [
    "With the example data downloaded, a simple configuration can be run by the following:\n"
   ]
  },
  {
   "cell_type": "code",
   "execution_count": null,
   "id": "382624c0-cff0-46d5-bee2-a90993dcb62f",
   "metadata": {},
   "outputs": [],
   "source": [
    "# assuming you downloaded to the default location\n",
    "config_file = tethys.default_download_dir + '/example/config_example.yml'\n"
   ]
  },
  {
   "cell_type": "markdown",
   "id": "4a850717-f098-4674-98ba-0b3fadebdf85",
   "metadata": {},
   "source": [
    "Let's take a look at the config file:"
   ]
  },
  {
   "cell_type": "code",
   "execution_count": null,
   "id": "1d4f8dd9-e507-4017-85f3-ed8c6ffbf52b",
   "metadata": {},
   "outputs": [],
   "source": [
    "with open(config_file) as cfg:\n",
    "    print(cfg.read())\n"
   ]
  },
  {
   "cell_type": "code",
   "execution_count": null,
   "id": "8a9f20a4-4586-4d8d-8f82-5e054905ee59",
   "metadata": {},
   "outputs": [],
   "source": [
    "# run tethys using the config file\n",
    "result = tethys.run_model(config_file)\n"
   ]
  },
  {
   "cell_type": "code",
   "execution_count": null,
   "id": "b993018f-72b3-4a27-8743-958af5a98a1c",
   "metadata": {},
   "outputs": [],
   "source": [
    "# note that the configuration opions used to conduct the run\n",
    "# will be present in the `result` variable\n",
    "\n",
    "result.years\n"
   ]
  },
  {
   "cell_type": "code",
   "execution_count": null,
   "id": "3ada3961-2c01-48b4-a875-c50e71147470",
   "metadata": {},
   "outputs": [],
   "source": [
    "result.csv"
   ]
  },
  {
   "cell_type": "markdown",
   "id": "179ee194-2509-470c-be6d-3aa4664c7766",
   "metadata": {},
   "source": [
    "## Plotting\n",
    "\n",
    "**tethys** makes use of the [Xarray](https://docs.xarray.dev/en/stable/index.html) package, which provides convenient plotting functionality.  \n"
   ]
  },
  {
   "cell_type": "markdown",
   "id": "1c50a5b5-7f96-4a74-8ac2-21904594d8f4",
   "metadata": {},
   "source": [
    "#### View the output of Tethys for the Municipal sector for year 2020"
   ]
  },
  {
   "cell_type": "code",
   "execution_count": null,
   "id": "753c8880-ba36-49cc-a664-34cfc1b9643a",
   "metadata": {},
   "outputs": [],
   "source": [
    "# higher dpi in order to see resolution\n",
    "plt.figure(figsize=(10, 6), dpi=300)\n",
    "\n",
    "# powernorm the color palette in order to see more detail at the low end\n",
    "result.outputs.Municipal.sel(year=2020).plot(\n",
    "    norm=colors.PowerNorm(0.25), \n",
    "    cmap='viridis_r',\n",
    ")\n",
    "\n",
    "plt.title(\"Sector: Municipal, Year: 2020\")\n",
    "plt.show()\n"
   ]
  },
  {
   "cell_type": "markdown",
   "id": "46d8a823-8828-4a1d-8f1a-1110c5b6de07",
   "metadata": {},
   "source": [
    "#### Interactively view the input data before downscaling for the Municipal sector for year 2020"
   ]
  },
  {
   "cell_type": "code",
   "execution_count": null,
   "id": "82ce1625-7fee-4a0b-b826-44cc841dfee0",
   "metadata": {},
   "outputs": [],
   "source": [
    "from tethys import InputViewer\n",
    "\n",
    "# instantiate input viewer\n",
    "gridded_inputs = InputViewer(\n",
    "    result,\n",
    "    sector=\"Municipal\",\n",
    "    year=2020,\n",
    ")\n"
   ]
  },
  {
   "cell_type": "markdown",
   "id": "9ddc246e-1f51-486d-a49a-407d3e25ade3",
   "metadata": {},
   "source": [
    "The data can now be plotted..."
   ]
  },
  {
   "cell_type": "code",
   "execution_count": null,
   "id": "127bf509-28e3-4058-8e12-a076a2c169dc",
   "metadata": {},
   "outputs": [],
   "source": [
    "gridded_inputs.plot()"
   ]
  },
  {
   "cell_type": "markdown",
   "id": "910ea07a-42e5-4608-b310-1381c67c9284",
   "metadata": {},
   "source": [
    "Plotting options can be viewed by calling `help` on the function:"
   ]
  },
  {
   "cell_type": "code",
   "execution_count": null,
   "id": "87d09b05-4e3a-4b15-8b46-cc43c7d1648d",
   "metadata": {},
   "outputs": [],
   "source": [
    "help(gridded_inputs.plot)\n"
   ]
  },
  {
   "cell_type": "markdown",
   "id": "33c87e94-7bab-42aa-9b1c-b432f6050295",
   "metadata": {},
   "source": [
    "The underlying data can also be exported to a raster file using the `.to_raster()` method:\n",
    "\n",
    "```python\n",
    "gridded_inputs.to_raster(\"<your raster path>\")\n",
    "```"
   ]
  },
  {
   "cell_type": "markdown",
   "id": "474ad58a-ef4f-46ca-b223-8b31b94b336e",
   "metadata": {},
   "source": [
    "## Dashboard "
   ]
  },
  {
   "cell_type": "markdown",
   "id": "8bbf94fc-8e0e-4f60-8708-e27abebdfb4f",
   "metadata": {},
   "source": [
    "**tethys** uses [Dask](https://docs.dask.org/en/stable/) for parallelization and to lazily compute results. You can launch the dask distributed client in order to view dashboard and monitor the progress of large workflows.\n",
    "\n",
    "<div class=\"alert alert-block alert-info\"> <b>NOTE:</b> Viewing the dashboard requires a few other dependencies not automatically installed by <b>tethys</b>. </div>\n"
   ]
  },
  {
   "cell_type": "code",
   "execution_count": null,
   "id": "c185f56f-52e2-43d4-ad3e-c36ff4a423a7",
   "metadata": {},
   "outputs": [],
   "source": [
    "# this configuration may need to be different depending on your machine\n",
    "client = Client(\n",
    "    threads_per_worker=8, \n",
    "    n_workers=1, \n",
    "    processes=False, \n",
    "    memory_limit='8GB'\n",
    ")\n",
    "\n",
    "# link to view the dask dashboard in your browser, probably localhost:8787\n",
    "print(f\"Click link to open dashboard: {client.dashboard_link}\")\n",
    "\n",
    "# run tethys AFTER launching the client\n",
    "config_file = tethys.default_download_dir + '/example/config_demeter.yml'\n",
    "result = tethys.run_model(config_file)\n",
    "\n",
    "# this configuration does not write outputs to a file,\n",
    "# so plots are lazily computed when requested\n",
    "result.outputs.Wheat.sel(year=2030).plot(\n",
    "    norm=colors.PowerNorm(0.25), \n",
    "    cmap='viridis_r'\n",
    ")\n",
    "\n",
    "plt.show()\n"
   ]
  },
  {
   "cell_type": "markdown",
   "id": "baf14e6c-9e68-44e7-ad64-bf16ac706870",
   "metadata": {},
   "source": [
    "## Additional\n",
    "\n",
    "Check out the full user guid on our [documentation](https://jgcri.github.io/tethys/user_guide.html#) website!"
   ]
  }
 ],
 "metadata": {
  "kernelspec": {
   "display_name": "py3.11.7_tethys",
   "language": "python",
   "name": "py3.11.7_tethys"
  },
  "language_info": {
   "codemirror_mode": {
    "name": "ipython",
    "version": 3
   },
   "file_extension": ".py",
   "mimetype": "text/x-python",
   "name": "python",
   "nbconvert_exporter": "python",
   "pygments_lexer": "ipython3",
   "version": "3.11.7"
  }
 },
 "nbformat": 4,
 "nbformat_minor": 5
}
